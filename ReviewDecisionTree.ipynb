{
 "cells": [
  {
   "cell_type": "code",
   "execution_count": 1,
   "id": "f84cb37c-5d53-42f0-aec8-fe010efe98f0",
   "metadata": {},
   "outputs": [],
   "source": [
    "from datetime import datetime, timedelta\n",
    "\n",
    "import pandas as pd\n",
    "import random\n",
    "\n",
    "import requests\n",
    "\n",
    "# Load the CSV file into a DataFrame\n",
    "df = pd.read_csv('review.csv')"
   ]
  },
  {
   "cell_type": "code",
   "execution_count": 2,
   "id": "d786ce66-a493-4253-a690-279bdf472529",
   "metadata": {},
   "outputs": [],
   "source": [
    "data = df.drop(columns=[\"datetime\", \"temperature\", \"lat\", \"lon\"])"
   ]
  },
  {
   "cell_type": "code",
   "execution_count": 3,
   "id": "581f9670-90f4-401f-940b-a61f57b91ffe",
   "metadata": {},
   "outputs": [],
   "source": [
    "# create a simple function to tokenize messages into distinct words\n",
    "from typing import Set\n",
    "import re\n",
    "\n",
    "def tokenize(text: str) -> Set[str]:\n",
    "    text = text.lower()                         # Convert to lowercase,\n",
    "    all_words = re.findall(\"[a-z0-9']+\", text)  # extract the words, and\n",
    "    return set(all_words)                       # remove duplicates.\n",
    "\n",
    "assert tokenize(\"Data Science is science\") == {\"data\", \"science\", \"is\"}"
   ]
  },
  {
   "cell_type": "code",
   "execution_count": 4,
   "id": "3e83e28d-94df-4465-9638-ce1798dc3cc3",
   "metadata": {},
   "outputs": [],
   "source": [
    "from typing import NamedTuple\n",
    "\n",
    "class Review(NamedTuple):\n",
    "    text: str\n",
    "    review_status: bool"
   ]
  },
  {
   "cell_type": "code",
   "execution_count": 5,
   "id": "cdaed8d8-d56e-4a97-8b55-fda728f33f15",
   "metadata": {},
   "outputs": [],
   "source": [
    "# Assuming df is your DataFrame\n",
    "df_values = data.to_dict('records')\n",
    "\n",
    "# Converting DataFrame to array of Review objects\n",
    "reviews = [Review(**record) for record in df_values]"
   ]
  },
  {
   "cell_type": "code",
   "execution_count": 6,
   "id": "882e8f37-b4d0-4608-bbc0-b270df96e1df",
   "metadata": {},
   "outputs": [],
   "source": [
    "# As our classifier needs to keep track of tokens, counts, and labels from the training data, we’ll make it a class.\n",
    "from typing import List, Tuple, Dict, Iterable\n",
    "import math\n",
    "from collections import defaultdict\n",
    "\n",
    "class NaiveBayesClassifier:\n",
    "    def __init__(self, k: float = 0.5) -> None:\n",
    "        self.k = k\n",
    "        self.tokens: Set[str] = set()\n",
    "        self.token_good_reviews_count: Dict[str, int] = defaultdict(int)\n",
    "        self.token_bad_reviews_count: Dict[str, int] = defaultdict(int)    # we refer to nonspam emails as ham emails\n",
    "        self.good_reviews = self.bad_reviews = 0\n",
    "\n",
    "    def train(self, reviews: Iterable[Review]) -> None:\n",
    "        for review in reviews:\n",
    "            # Increment review counts\n",
    "            if review.review_status:\n",
    "                self.good_reviews += 1\n",
    "            else:\n",
    "                self.bad_reviews += 1\n",
    "\n",
    "            # Increment word counts\n",
    "            for token in tokenize(review.text):\n",
    "                self.tokens.add(token)\n",
    "                if review.review_status:\n",
    "                    self.token_good_reviews_count[token] += 1\n",
    "                else:\n",
    "                    self.token_bad_reviews_count[token] += 1\n",
    "    \n",
    "    def _probabilities(self, token: str) -> Tuple[float, float]:\n",
    "        \"\"\"returns P(token | spam) and P(token | ham)\"\"\"\n",
    "        good = self.token_good_reviews_count[token]\n",
    "        bad = self.token_bad_reviews_count[token]\n",
    "\n",
    "        p_token_good = (good + self.k) / (self.good_reviews + 2 * self.k)\n",
    "        p_token_bad = (bad + self.k) / (self.bad_reviews + 2 * self.k)\n",
    "\n",
    "        return p_token_good, p_token_bad    \n",
    "    \n",
    "    # finally we have the predict function\n",
    "    def predict(self, text: str) -> float:\n",
    "        text_tokens = tokenize(text)\n",
    "        log_prob_if_good = log_prob_if_bad = 0.0\n",
    "\n",
    "        # Iterate through each word in our vocabulary\n",
    "        for token in self.tokens:\n",
    "            prob_if_good, prob_if_bad = self._probabilities(token)\n",
    "\n",
    "            # If *token* appears in the message,\n",
    "            # add the log probability of seeing it\n",
    "            if token in text_tokens:\n",
    "                log_prob_if_good += math.log(prob_if_good)\n",
    "                log_prob_if_bad += math.log(prob_if_bad)\n",
    "\n",
    "            # Otherwise add the log probability of _not_ seeing it,\n",
    "            # which is log(1 - probability of seeing it)\n",
    "            else:\n",
    "                log_prob_if_good += math.log(1.0 - prob_if_good)\n",
    "                log_prob_if_bad += math.log(1.0 - prob_if_bad)\n",
    "\n",
    "        prob_if_good = math.exp(log_prob_if_good)\n",
    "        prob_if_bad = math.exp(log_prob_if_bad)\n",
    "        return prob_if_good / (prob_if_good + prob_if_bad)"
   ]
  },
  {
   "cell_type": "code",
   "execution_count": 67,
   "id": "300891a5-a9b7-4da0-a138-1b335b9b24f4",
   "metadata": {},
   "outputs": [],
   "source": [
    "reviews = [Review(\"spam rules\", True),\n",
    "            Review(\"ham rules\", False),\n",
    "            Review(\"hello ham\", False)]\n",
    "\n",
    "model = NaiveBayesClassifier(k=0.5)\n",
    "model.train(reviews)"
   ]
  },
  {
   "cell_type": "code",
   "execution_count": 68,
   "id": "8e39e320-62f1-4452-a8b8-2ea6706974d9",
   "metadata": {},
   "outputs": [],
   "source": [
    "assert model.tokens == {\"spam\", \"ham\", \"rules\", \"hello\"}\n",
    "assert model.good_reviews == 1\n",
    "assert model.bad_reviews == 2\n",
    "assert model.token_good_reviews_count == {\"spam\": 1, \"rules\": 1}\n",
    "assert model.token_bad_reviews_count == {\"ham\": 2, \"hello\": 1, \"rules\": 1}"
   ]
  },
  {
   "cell_type": "code",
   "execution_count": 7,
   "id": "ddc88c2f-e955-435c-9a73-27146d596cba",
   "metadata": {},
   "outputs": [],
   "source": [
    "import random\n",
    "from typing import TypeVar, List, Tuple\n",
    "X = TypeVar('X')  # generic type to represent a data point\n",
    "\n",
    "def split_data(data: List[X], prob: float) -> Tuple[List[X], List[X]]:\n",
    "    \"\"\"Split data into fractions [prob, 1 - prob]\"\"\"\n",
    "    data = data[:]                    # Make a shallow copy\n",
    "    random.shuffle(data)              # because shuffle modifies the list.\n",
    "    cut = int(len(data) * prob)       # Use prob to find a cutoff\n",
    "    return data[:cut], data[cut:]     # and split the shuffled list there.\n",
    "\n",
    "random.seed(0)      # just so you get the same answers as me\n",
    "train_reviews, test_reviews = split_data(reviews, 0.75)\n",
    "\n",
    "model2 = NaiveBayesClassifier()\n",
    "model2.train(train_reviews)"
   ]
  },
  {
   "cell_type": "code",
   "execution_count": 9,
   "id": "b8e7f2bc-a08b-4248-b12f-d81751495ab9",
   "metadata": {},
   "outputs": [
    {
     "name": "stdout",
     "output_type": "stream",
     "text": [
      "Counter({(True, True): 38, (False, False): 4})\n"
     ]
    }
   ],
   "source": [
    "from collections import Counter\n",
    "\n",
    "predictions = [(review, model2.predict(review.text))\n",
    "               for review in test_reviews]\n",
    "\n",
    "# Assume that spam_probability > 0.5 corresponds to spam prediction\n",
    "# and count the combinations of (actual is_spam, predicted is_spam)\n",
    "confusion_matrix = Counter((review.review_status, good_probability > 0.5)\n",
    "                           for review, good_probability in predictions)\n",
    "\n",
    "print(confusion_matrix)"
   ]
  }
 ],
 "metadata": {
  "kernelspec": {
   "display_name": "Python 3 (ipykernel)",
   "language": "python",
   "name": "python3"
  },
  "language_info": {
   "codemirror_mode": {
    "name": "ipython",
    "version": 3
   },
   "file_extension": ".py",
   "mimetype": "text/x-python",
   "name": "python",
   "nbconvert_exporter": "python",
   "pygments_lexer": "ipython3",
   "version": "3.12.0"
  }
 },
 "nbformat": 4,
 "nbformat_minor": 5
}
